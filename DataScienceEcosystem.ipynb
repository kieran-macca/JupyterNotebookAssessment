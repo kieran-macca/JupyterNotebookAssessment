{
 "cells": [
  {
   "cell_type": "markdown",
   "id": "021172e1-e727-4287-ac29-12b7c61a5c99",
   "metadata": {},
   "source": [
    "# Data Science Tools and Ecosystem"
   ]
  },
  {
   "cell_type": "markdown",
   "id": "1cd5dfb5-67a8-4643-a170-9d0e76a11db6",
   "metadata": {},
   "source": [
    "In this notebook, Data Science Tools and Ecosystem are summarised."
   ]
  },
  {
   "cell_type": "markdown",
   "id": "96bae8be-f8ff-4b02-8772-96119c59a899",
   "metadata": {},
   "source": [
    "**Objectives:**\n",
    "- List popular Data Science languages\n",
    "- List some commonly used libraries in Data Science\n",
    "- List some Data Science tools in a table\n",
    "- Show some arithmetic examples\n",
    "- Become the best at Jupyter Notebook"
   ]
  },
  {
   "cell_type": "markdown",
   "id": "b170a004-c57a-4ea5-b086-111024db9056",
   "metadata": {
    "tags": []
   },
   "source": [
    "Some of the popular languages used by Data Scientists are:\n",
    "1. Python\n",
    "2. R\n",
    "3. Scala"
   ]
  },
  {
   "cell_type": "markdown",
   "id": "8843edba-7f3c-47fb-b324-9b724268249c",
   "metadata": {},
   "source": [
    "Some of the commonly used libraries are:\n",
    "1. Numpy\n",
    "2. Pandas\n",
    "3. Matplotlib"
   ]
  },
  {
   "cell_type": "markdown",
   "id": "9e481625-58ff-40f3-b7e7-320e1f6cfbcd",
   "metadata": {},
   "source": [
    "| Data Science Tools |\n",
    "|:-------------------|\n",
    "| RStudio            |\n",
    "| Tensorflow         |\n",
    "| Apache Hadoop      |"
   ]
  },
  {
   "cell_type": "markdown",
   "id": "7a672a56-13b2-4f88-a072-303ba7655aea",
   "metadata": {
    "tags": []
   },
   "source": [
    "### Below are a few examples of evaluating arithmetic expressions in Python"
   ]
  },
  {
   "cell_type": "code",
   "execution_count": 11,
   "id": "c96fbc2d-f9af-46e8-a9e7-a61d417962a9",
   "metadata": {
    "tags": []
   },
   "outputs": [
    {
     "data": {
      "text/plain": [
       "17"
      ]
     },
     "execution_count": 11,
     "metadata": {},
     "output_type": "execute_result"
    }
   ],
   "source": [
    "# This is a simple arithmetic expression to multiply then add integers.\n",
    "sum = (3*4)+5\n",
    "sum"
   ]
  },
  {
   "cell_type": "code",
   "execution_count": 12,
   "id": "4666938a-262c-41d9-b264-931e61416659",
   "metadata": {
    "tags": []
   },
   "outputs": [
    {
     "data": {
      "text/plain": [
       "3.3333333333333335"
      ]
     },
     "execution_count": 12,
     "metadata": {},
     "output_type": "execute_result"
    }
   ],
   "source": [
    "# This will convert 200 minutes to hours by dividing by 60.\n",
    "min_to_hours = 200/60\n",
    "min_to_hours"
   ]
  },
  {
   "cell_type": "markdown",
   "id": "00706c2e-3b5e-490c-acfe-729cc67f39e9",
   "metadata": {},
   "source": [
    "## Author\n",
    "Kieran"
   ]
  },
  {
   "cell_type": "code",
   "execution_count": null,
   "id": "11c7380e-53a3-4e59-93f1-4c430e19ae33",
   "metadata": {},
   "outputs": [],
   "source": []
  }
 ],
 "metadata": {
  "kernelspec": {
   "display_name": "Python",
   "language": "python",
   "name": "conda-env-python-py"
  },
  "language_info": {
   "codemirror_mode": {
    "name": "ipython",
    "version": 3
   },
   "file_extension": ".py",
   "mimetype": "text/x-python",
   "name": "python",
   "nbconvert_exporter": "python",
   "pygments_lexer": "ipython3",
   "version": "3.7.12"
  }
 },
 "nbformat": 4,
 "nbformat_minor": 5
}
